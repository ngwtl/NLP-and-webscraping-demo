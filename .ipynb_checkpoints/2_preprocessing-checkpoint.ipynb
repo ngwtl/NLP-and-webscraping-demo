{
 "cells": [
  {
   "cell_type": "markdown",
   "metadata": {},
   "source": [
    "# Project 3: Subreddit Classification\n",
    "---\n",
    "Project notebook organisation:<br>\n",
    "[1 - Webscraping and Data Acquisition](./1_webscraping_and_data_acquisition)<br>\n",
    "**2 - Preprocessing and Exploratory Data Analysis** (current notebook)<br>\n",
    "[3 - Model Tuning and Insights](./3_model_tuning_and_insights.ipynb)<br>\n",
    "<br>\n",
    "<br>"
   ]
  },
  {
   "cell_type": "markdown",
   "metadata": {},
   "source": [
    "## Introduction\n",
    "---"
   ]
  },
  {
   "cell_type": "markdown",
   "metadata": {},
   "source": [
    "In this notebook I will examine data obtained from webscraping both subreddits (from the previous notebook), looking specifically at common words and distributions of various features such as title lengths. I will also be carrying out data cleaning and feature engineering to create features that will help to better build the classification model (in the next notebook).\n",
    "\n",
    "### Contents\n",
    "1. [Initial analysis](#Initial-anaysis)\n",
    "2. [Most common words before preprocessing](#Most-common-words-before-preprocessing)\n",
    "3. [Data cleaning and feature engineering](#Data-cleaning-and-feature-engineering)\n",
    "4. [Lengths of contents](#Lengths-of-contents)\n",
    "5. [Most common words after preprocessing](#Most-common-words-after-preprocessing)\n",
    "6. [EDA conclusion](#EDA-conclusion)"
   ]
  },
  {
   "cell_type": "code",
   "execution_count": 5,
   "metadata": {},
   "outputs": [],
   "source": [
    "import pandas as pd\n",
    "import numpy as np\n",
    "import matplotlib.pyplot as plt\n",
    "from matplotlib_venn import venn2\n",
    "import seaborn as sns\n",
    "import scipy.stats as stats\n",
    "import warnings\n",
    "from wordcloud import WordCloud, ImageColorGenerator\n",
    "import regex as re\n",
    "\n",
    "from sklearn.feature_extraction.text import CountVectorizer, ENGLISH_STOP_WORDS\n",
    "\n",
    "warnings.filterwarnings('ignore')\n",
    "sns.set_style('ticks')\n",
    "pd.set_option('display.max_columns', None)\n",
    "\n",
    "%matplotlib inline"
   ]
  },
  {
   "cell_type": "markdown",
   "metadata": {},
   "source": [
    "### Import Data"
   ]
  },
  {
   "cell_type": "code",
   "execution_count": 7,
   "metadata": {},
   "outputs": [],
   "source": [
    "android_posts = pd.read_csv('./data/android_posts.csv', index_col = 0)\n",
    "android_comments = pd.read_csv('./data/android_comments.csv', index_col = 0)\n",
    "iphone_posts = pd.read_csv('./data/iphone_posts.csv', index_col = 0)\n",
    "iphone_comments = pd.read_csv('./data/iphone_comments.csv', index_col = 0)"
   ]
  },
  {
   "cell_type": "markdown",
   "metadata": {},
   "source": [
    "## Intial analysis"
   ]
  },
  {
   "cell_type": "markdown",
   "metadata": {},
   "source": [
    "A total of 990 post from r/Androidquestions and 992 posts from r/iphonehelp were scraped. These posts contained 3273 and 3627 comments respectively. The posts were scraped from a time period of 04 Jun 2020 to 20 Jun 2020 for r/Androidquestions and 26 Apr 2020 to 20 Jun 2020 for iphone posts.\n",
    "\n",
    "It is important to note that compared to other subreddits in the Reddit space, the r/Androidquestions and r/iphonehelp have more text in the `text` body as these are 'help'-based subreddits requiring strong descriptions of their problems as opposed to other kinds of subreddits which have less description. Compared to other subreddits, this makes their in-body text a good data source, in addition to the titles and comments. \n",
    "\n",
    "Other things that are interesting to note include the low number of posts flagged as `distinguished` and comments flagged as `comment_distinguished` reveal that most posts are not made by moderators and that the sample of posts is truly community driven. "
   ]
  },
  {
   "cell_type": "markdown",
   "metadata": {},
   "source": [
    "### r/Androidhelp"
   ]
  },
  {
   "cell_type": "code",
   "execution_count": 16,
   "metadata": {},
   "outputs": [
    {
     "data": {
      "text/html": [
       "<div>\n",
       "<style scoped>\n",
       "    .dataframe tbody tr th:only-of-type {\n",
       "        vertical-align: middle;\n",
       "    }\n",
       "\n",
       "    .dataframe tbody tr th {\n",
       "        vertical-align: top;\n",
       "    }\n",
       "\n",
       "    .dataframe thead th {\n",
       "        text-align: right;\n",
       "    }\n",
       "</style>\n",
       "<table border=\"1\" class=\"dataframe\">\n",
       "  <thead>\n",
       "    <tr style=\"text-align: right;\">\n",
       "      <th></th>\n",
       "      <th>title</th>\n",
       "      <th>id</th>\n",
       "      <th>date_created</th>\n",
       "      <th>text</th>\n",
       "      <th>distinguished</th>\n",
       "      <th>score</th>\n",
       "      <th>upvote_ratio</th>\n",
       "    </tr>\n",
       "  </thead>\n",
       "  <tbody>\n",
       "    <tr>\n",
       "      <th>0</th>\n",
       "      <td>Apps wont load using WIFI</td>\n",
       "      <td>hcerke</td>\n",
       "      <td>2020-06-20 03:16:44</td>\n",
       "      <td>Hello, my apps are not loading content when i ...</td>\n",
       "      <td>NaN</td>\n",
       "      <td>1</td>\n",
       "      <td>1.0</td>\n",
       "    </tr>\n",
       "    <tr>\n",
       "      <th>1</th>\n",
       "      <td>Is there any way to select photos from differe...</td>\n",
       "      <td>hcekrf</td>\n",
       "      <td>2020-06-20 03:03:21</td>\n",
       "      <td>I'm using a Samsung Note 8 and just the stock ...</td>\n",
       "      <td>NaN</td>\n",
       "      <td>1</td>\n",
       "      <td>1.0</td>\n",
       "    </tr>\n",
       "    <tr>\n",
       "      <th>2</th>\n",
       "      <td>Chat Features No Longer Working</td>\n",
       "      <td>hcefkx</td>\n",
       "      <td>2020-06-20 02:52:45</td>\n",
       "      <td>So I use a Samsung Galaxy S10+ on Verizon and ...</td>\n",
       "      <td>NaN</td>\n",
       "      <td>1</td>\n",
       "      <td>1.0</td>\n",
       "    </tr>\n",
       "    <tr>\n",
       "      <th>3</th>\n",
       "      <td>An app updated itself in a weird way</td>\n",
       "      <td>hcefi8</td>\n",
       "      <td>2020-06-20 02:52:36</td>\n",
       "      <td>I was using the Twitch app on android, and som...</td>\n",
       "      <td>NaN</td>\n",
       "      <td>1</td>\n",
       "      <td>1.0</td>\n",
       "    </tr>\n",
       "    <tr>\n",
       "      <th>4</th>\n",
       "      <td>[Google Photos] Is it possible to remove pictu...</td>\n",
       "      <td>hcdh2b</td>\n",
       "      <td>2020-06-20 01:43:45</td>\n",
       "      <td>I joined a public album that is just a big mix...</td>\n",
       "      <td>NaN</td>\n",
       "      <td>1</td>\n",
       "      <td>1.0</td>\n",
       "    </tr>\n",
       "  </tbody>\n",
       "</table>\n",
       "</div>"
      ],
      "text/plain": [
       "                                               title      id  \\\n",
       "0                          Apps wont load using WIFI  hcerke   \n",
       "1  Is there any way to select photos from differe...  hcekrf   \n",
       "2                    Chat Features No Longer Working  hcefkx   \n",
       "3               An app updated itself in a weird way  hcefi8   \n",
       "4  [Google Photos] Is it possible to remove pictu...  hcdh2b   \n",
       "\n",
       "          date_created                                               text  \\\n",
       "0  2020-06-20 03:16:44  Hello, my apps are not loading content when i ...   \n",
       "1  2020-06-20 03:03:21  I'm using a Samsung Note 8 and just the stock ...   \n",
       "2  2020-06-20 02:52:45  So I use a Samsung Galaxy S10+ on Verizon and ...   \n",
       "3  2020-06-20 02:52:36  I was using the Twitch app on android, and som...   \n",
       "4  2020-06-20 01:43:45  I joined a public album that is just a big mix...   \n",
       "\n",
       "   distinguished  score  upvote_ratio  \n",
       "0            NaN      1           1.0  \n",
       "1            NaN      1           1.0  \n",
       "2            NaN      1           1.0  \n",
       "3            NaN      1           1.0  \n",
       "4            NaN      1           1.0  "
      ]
     },
     "execution_count": 16,
     "metadata": {},
     "output_type": "execute_result"
    }
   ],
   "source": [
    "android_posts.head()"
   ]
  },
  {
   "cell_type": "code",
   "execution_count": 18,
   "metadata": {},
   "outputs": [
    {
     "name": "stdout",
     "output_type": "stream",
     "text": [
      "<class 'pandas.core.frame.DataFrame'>\n",
      "Int64Index: 990 entries, 0 to 989\n",
      "Data columns (total 7 columns):\n",
      " #   Column         Non-Null Count  Dtype  \n",
      "---  ------         --------------  -----  \n",
      " 0   title          990 non-null    object \n",
      " 1   id             990 non-null    object \n",
      " 2   date_created   990 non-null    object \n",
      " 3   text           938 non-null    object \n",
      " 4   distinguished  0 non-null      float64\n",
      " 5   score          990 non-null    int64  \n",
      " 6   upvote_ratio   990 non-null    float64\n",
      "dtypes: float64(2), int64(1), object(4)\n",
      "memory usage: 61.9+ KB\n"
     ]
    }
   ],
   "source": [
    "android_posts.info()"
   ]
  },
  {
   "cell_type": "code",
   "execution_count": 19,
   "metadata": {},
   "outputs": [
    {
     "name": "stdout",
     "output_type": "stream",
     "text": [
      "2020-06-20 03:16:44\n",
      "2020-06-04 18:49:59\n"
     ]
    }
   ],
   "source": [
    "print(android_posts.date_created.max())\n",
    "print(android_posts.date_created.min())"
   ]
  },
  {
   "cell_type": "code",
   "execution_count": 17,
   "metadata": {},
   "outputs": [
    {
     "data": {
      "text/html": [
       "<div>\n",
       "<style scoped>\n",
       "    .dataframe tbody tr th:only-of-type {\n",
       "        vertical-align: middle;\n",
       "    }\n",
       "\n",
       "    .dataframe tbody tr th {\n",
       "        vertical-align: top;\n",
       "    }\n",
       "\n",
       "    .dataframe thead th {\n",
       "        text-align: right;\n",
       "    }\n",
       "</style>\n",
       "<table border=\"1\" class=\"dataframe\">\n",
       "  <thead>\n",
       "    <tr style=\"text-align: right;\">\n",
       "      <th></th>\n",
       "      <th>post_id</th>\n",
       "      <th>comment_text</th>\n",
       "      <th>comment_distinguished</th>\n",
       "      <th>comment_score</th>\n",
       "    </tr>\n",
       "  </thead>\n",
       "  <tbody>\n",
       "    <tr>\n",
       "      <th>0</th>\n",
       "      <td>hcefkx</td>\n",
       "      <td>Try the following, turn off WiFi and turn on m...</td>\n",
       "      <td>NaN</td>\n",
       "      <td>1</td>\n",
       "    </tr>\n",
       "    <tr>\n",
       "      <th>1</th>\n",
       "      <td>hcdelc</td>\n",
       "      <td>I think you're in the wrong forum</td>\n",
       "      <td>NaN</td>\n",
       "      <td>1</td>\n",
       "    </tr>\n",
       "    <tr>\n",
       "      <th>2</th>\n",
       "      <td>hcd8fh</td>\n",
       "      <td>Open the battery page in settings, and it shou...</td>\n",
       "      <td>NaN</td>\n",
       "      <td>1</td>\n",
       "    </tr>\n",
       "    <tr>\n",
       "      <th>3</th>\n",
       "      <td>hcc15t</td>\n",
       "      <td>Samsung hardware support is wierd, my mum has ...</td>\n",
       "      <td>NaN</td>\n",
       "      <td>1</td>\n",
       "    </tr>\n",
       "    <tr>\n",
       "      <th>4</th>\n",
       "      <td>hcc15t</td>\n",
       "      <td>The flagships will be the first to get updates...</td>\n",
       "      <td>NaN</td>\n",
       "      <td>1</td>\n",
       "    </tr>\n",
       "  </tbody>\n",
       "</table>\n",
       "</div>"
      ],
      "text/plain": [
       "  post_id                                       comment_text  \\\n",
       "0  hcefkx  Try the following, turn off WiFi and turn on m...   \n",
       "1  hcdelc                  I think you're in the wrong forum   \n",
       "2  hcd8fh  Open the battery page in settings, and it shou...   \n",
       "3  hcc15t  Samsung hardware support is wierd, my mum has ...   \n",
       "4  hcc15t  The flagships will be the first to get updates...   \n",
       "\n",
       "   comment_distinguished  comment_score  \n",
       "0                    NaN              1  \n",
       "1                    NaN              1  \n",
       "2                    NaN              1  \n",
       "3                    NaN              1  \n",
       "4                    NaN              1  "
      ]
     },
     "execution_count": 17,
     "metadata": {},
     "output_type": "execute_result"
    }
   ],
   "source": [
    "android_comments.head()"
   ]
  },
  {
   "cell_type": "code",
   "execution_count": 20,
   "metadata": {},
   "outputs": [
    {
     "name": "stdout",
     "output_type": "stream",
     "text": [
      "<class 'pandas.core.frame.DataFrame'>\n",
      "Int64Index: 3273 entries, 0 to 3272\n",
      "Data columns (total 4 columns):\n",
      " #   Column                 Non-Null Count  Dtype  \n",
      "---  ------                 --------------  -----  \n",
      " 0   post_id                3273 non-null   object \n",
      " 1   comment_text           3273 non-null   object \n",
      " 2   comment_distinguished  0 non-null      float64\n",
      " 3   comment_score          3273 non-null   int64  \n",
      "dtypes: float64(1), int64(1), object(2)\n",
      "memory usage: 127.9+ KB\n"
     ]
    }
   ],
   "source": [
    "android_comments.info()"
   ]
  },
  {
   "cell_type": "code",
   "execution_count": 21,
   "metadata": {},
   "outputs": [
    {
     "name": "stdout",
     "output_type": "stream",
     "text": [
      "(990, 7)\n",
      "(3273, 4)\n"
     ]
    }
   ],
   "source": [
    "print(android_posts.shape)\n",
    "print(android_comments.shape)"
   ]
  },
  {
   "cell_type": "code",
   "execution_count": 22,
   "metadata": {},
   "outputs": [
    {
     "data": {
      "text/html": [
       "<div>\n",
       "<style scoped>\n",
       "    .dataframe tbody tr th:only-of-type {\n",
       "        vertical-align: middle;\n",
       "    }\n",
       "\n",
       "    .dataframe tbody tr th {\n",
       "        vertical-align: top;\n",
       "    }\n",
       "\n",
       "    .dataframe thead th {\n",
       "        text-align: right;\n",
       "    }\n",
       "</style>\n",
       "<table border=\"1\" class=\"dataframe\">\n",
       "  <thead>\n",
       "    <tr style=\"text-align: right;\">\n",
       "      <th></th>\n",
       "      <th>title</th>\n",
       "      <th>id</th>\n",
       "      <th>date_created</th>\n",
       "      <th>text</th>\n",
       "      <th>distinguished</th>\n",
       "      <th>score</th>\n",
       "      <th>upvote_ratio</th>\n",
       "    </tr>\n",
       "  </thead>\n",
       "  <tbody>\n",
       "    <tr>\n",
       "      <th>0</th>\n",
       "      <td>How can I get my phone storage back to normal?</td>\n",
       "      <td>hcegsr</td>\n",
       "      <td>2020-06-20 02:55:09</td>\n",
       "      <td>My iPhone has 16GB and the bulk of it is bein...</td>\n",
       "      <td>NaN</td>\n",
       "      <td>1</td>\n",
       "      <td>1.00</td>\n",
       "    </tr>\n",
       "    <tr>\n",
       "      <th>1</th>\n",
       "      <td>Old iPhone receives texts/calls and new iPhone...</td>\n",
       "      <td>hceg99</td>\n",
       "      <td>2020-06-20 02:54:04</td>\n",
       "      <td>\\nI just set up my new iPhone 11 today. I went...</td>\n",
       "      <td>NaN</td>\n",
       "      <td>1</td>\n",
       "      <td>1.00</td>\n",
       "    </tr>\n",
       "    <tr>\n",
       "      <th>2</th>\n",
       "      <td>i have 70GB of stuff on my “other” in storage,...</td>\n",
       "      <td>hce0z9</td>\n",
       "      <td>2020-06-20 02:23:34</td>\n",
       "      <td>NaN</td>\n",
       "      <td>NaN</td>\n",
       "      <td>1</td>\n",
       "      <td>1.00</td>\n",
       "    </tr>\n",
       "    <tr>\n",
       "      <th>3</th>\n",
       "      <td>Iphone SE 13.3.1 Photos have a circled exclama...</td>\n",
       "      <td>hcdn4g</td>\n",
       "      <td>2020-06-20 01:55:56</td>\n",
       "      <td>As the title suggests my photos have a circled...</td>\n",
       "      <td>NaN</td>\n",
       "      <td>1</td>\n",
       "      <td>0.99</td>\n",
       "    </tr>\n",
       "    <tr>\n",
       "      <th>4</th>\n",
       "      <td>My iPhone 11 PRo Max just deleted an entire me...</td>\n",
       "      <td>hcdj8r</td>\n",
       "      <td>2020-06-20 01:48:11</td>\n",
       "      <td>I did not have the number saved.\\n\\nThe person...</td>\n",
       "      <td>NaN</td>\n",
       "      <td>1</td>\n",
       "      <td>1.00</td>\n",
       "    </tr>\n",
       "  </tbody>\n",
       "</table>\n",
       "</div>"
      ],
      "text/plain": [
       "                                               title      id  \\\n",
       "0     How can I get my phone storage back to normal?  hcegsr   \n",
       "1  Old iPhone receives texts/calls and new iPhone...  hceg99   \n",
       "2  i have 70GB of stuff on my “other” in storage,...  hce0z9   \n",
       "3  Iphone SE 13.3.1 Photos have a circled exclama...  hcdn4g   \n",
       "4  My iPhone 11 PRo Max just deleted an entire me...  hcdj8r   \n",
       "\n",
       "          date_created                                               text  \\\n",
       "0  2020-06-20 02:55:09   My iPhone has 16GB and the bulk of it is bein...   \n",
       "1  2020-06-20 02:54:04  \\nI just set up my new iPhone 11 today. I went...   \n",
       "2  2020-06-20 02:23:34                                                NaN   \n",
       "3  2020-06-20 01:55:56  As the title suggests my photos have a circled...   \n",
       "4  2020-06-20 01:48:11  I did not have the number saved.\\n\\nThe person...   \n",
       "\n",
       "   distinguished  score  upvote_ratio  \n",
       "0            NaN      1          1.00  \n",
       "1            NaN      1          1.00  \n",
       "2            NaN      1          1.00  \n",
       "3            NaN      1          0.99  \n",
       "4            NaN      1          1.00  "
      ]
     },
     "execution_count": 22,
     "metadata": {},
     "output_type": "execute_result"
    }
   ],
   "source": [
    "iphone_posts.head()"
   ]
  },
  {
   "cell_type": "code",
   "execution_count": 32,
   "metadata": {},
   "outputs": [
    {
     "name": "stdout",
     "output_type": "stream",
     "text": [
      "<class 'pandas.core.frame.DataFrame'>\n",
      "Int64Index: 992 entries, 0 to 991\n",
      "Data columns (total 7 columns):\n",
      " #   Column         Non-Null Count  Dtype  \n",
      "---  ------         --------------  -----  \n",
      " 0   title          992 non-null    object \n",
      " 1   id             992 non-null    object \n",
      " 2   date_created   992 non-null    object \n",
      " 3   text           945 non-null    object \n",
      " 4   distinguished  0 non-null      float64\n",
      " 5   score          992 non-null    int64  \n",
      " 6   upvote_ratio   992 non-null    float64\n",
      "dtypes: float64(2), int64(1), object(4)\n",
      "memory usage: 62.0+ KB\n"
     ]
    }
   ],
   "source": [
    "iphone_posts.info()"
   ]
  },
  {
   "cell_type": "code",
   "execution_count": 25,
   "metadata": {},
   "outputs": [
    {
     "data": {
      "text/plain": [
       "(992, 7)"
      ]
     },
     "execution_count": 25,
     "metadata": {},
     "output_type": "execute_result"
    }
   ],
   "source": [
    "iphone_posts.shape"
   ]
  },
  {
   "cell_type": "code",
   "execution_count": 31,
   "metadata": {},
   "outputs": [
    {
     "name": "stdout",
     "output_type": "stream",
     "text": [
      "2020-06-20 02:55:09\n",
      "2020-04-26 04:53:04\n"
     ]
    }
   ],
   "source": [
    "print(iphone_posts.date_created.max())\n",
    "print(iphone_posts.date_created.min())"
   ]
  },
  {
   "cell_type": "code",
   "execution_count": 26,
   "metadata": {},
   "outputs": [
    {
     "data": {
      "text/html": [
       "<div>\n",
       "<style scoped>\n",
       "    .dataframe tbody tr th:only-of-type {\n",
       "        vertical-align: middle;\n",
       "    }\n",
       "\n",
       "    .dataframe tbody tr th {\n",
       "        vertical-align: top;\n",
       "    }\n",
       "\n",
       "    .dataframe thead th {\n",
       "        text-align: right;\n",
       "    }\n",
       "</style>\n",
       "<table border=\"1\" class=\"dataframe\">\n",
       "  <thead>\n",
       "    <tr style=\"text-align: right;\">\n",
       "      <th></th>\n",
       "      <th>post_id</th>\n",
       "      <th>comment_text</th>\n",
       "      <th>comment_distinguished</th>\n",
       "      <th>comment_score</th>\n",
       "    </tr>\n",
       "  </thead>\n",
       "  <tbody>\n",
       "    <tr>\n",
       "      <th>0</th>\n",
       "      <td>hcegsr</td>\n",
       "      <td>Can you post a screenshot of iPhone storage?</td>\n",
       "      <td>NaN</td>\n",
       "      <td>1</td>\n",
       "    </tr>\n",
       "    <tr>\n",
       "      <th>1</th>\n",
       "      <td>hceg99</td>\n",
       "      <td>Move the SIM card from the old phone to the ne...</td>\n",
       "      <td>NaN</td>\n",
       "      <td>1</td>\n",
       "    </tr>\n",
       "    <tr>\n",
       "      <th>2</th>\n",
       "      <td>hceg99</td>\n",
       "      <td>I did that and the old phone still received th...</td>\n",
       "      <td>NaN</td>\n",
       "      <td>1</td>\n",
       "    </tr>\n",
       "    <tr>\n",
       "      <th>3</th>\n",
       "      <td>hce0z9</td>\n",
       "      <td>Can you post a screenshot of iPhone storage?</td>\n",
       "      <td>NaN</td>\n",
       "      <td>1</td>\n",
       "    </tr>\n",
       "    <tr>\n",
       "      <th>4</th>\n",
       "      <td>hce0z9</td>\n",
       "      <td>it’s not letting me take screenshots right now...</td>\n",
       "      <td>NaN</td>\n",
       "      <td>1</td>\n",
       "    </tr>\n",
       "  </tbody>\n",
       "</table>\n",
       "</div>"
      ],
      "text/plain": [
       "  post_id                                       comment_text  \\\n",
       "0  hcegsr       Can you post a screenshot of iPhone storage?   \n",
       "1  hceg99  Move the SIM card from the old phone to the ne...   \n",
       "2  hceg99  I did that and the old phone still received th...   \n",
       "3  hce0z9       Can you post a screenshot of iPhone storage?   \n",
       "4  hce0z9  it’s not letting me take screenshots right now...   \n",
       "\n",
       "  comment_distinguished  comment_score  \n",
       "0                   NaN              1  \n",
       "1                   NaN              1  \n",
       "2                   NaN              1  \n",
       "3                   NaN              1  \n",
       "4                   NaN              1  "
      ]
     },
     "execution_count": 26,
     "metadata": {},
     "output_type": "execute_result"
    }
   ],
   "source": [
    "iphone_comments.head()"
   ]
  },
  {
   "cell_type": "code",
   "execution_count": 27,
   "metadata": {},
   "outputs": [
    {
     "name": "stdout",
     "output_type": "stream",
     "text": [
      "<class 'pandas.core.frame.DataFrame'>\n",
      "Int64Index: 3627 entries, 0 to 3626\n",
      "Data columns (total 4 columns):\n",
      " #   Column                 Non-Null Count  Dtype \n",
      "---  ------                 --------------  ----- \n",
      " 0   post_id                3627 non-null   object\n",
      " 1   comment_text           3627 non-null   object\n",
      " 2   comment_distinguished  1 non-null      object\n",
      " 3   comment_score          3627 non-null   int64 \n",
      "dtypes: int64(1), object(3)\n",
      "memory usage: 141.7+ KB\n"
     ]
    }
   ],
   "source": [
    "iphone_comments.info()"
   ]
  },
  {
   "cell_type": "code",
   "execution_count": 29,
   "metadata": {
    "scrolled": true
   },
   "outputs": [
    {
     "name": "stdout",
     "output_type": "stream",
     "text": [
      "(992, 7)\n",
      "(3627, 4)\n"
     ]
    }
   ],
   "source": [
    "print(iphone_posts.shape)\n",
    "print(iphone_comments.shape)"
   ]
  },
  {
   "cell_type": "markdown",
   "metadata": {},
   "source": [
    "### Percentage of non-link/image posts in each subreddit"
   ]
  },
  {
   "cell_type": "code",
   "execution_count": 35,
   "metadata": {
    "scrolled": true
   },
   "outputs": [
    {
     "data": {
      "image/png": "[encoded data removed]",
      "text/plain": [
       "<Figure size 360x288 with 1 Axes>"
      ]
     },
     "metadata": {
      "needs_background": "light"
     },
     "output_type": "display_data"
    }
   ],
   "source": [
    "android_posts_notnull = android_posts.notnull().sum()['text']/android_posts.shape[0] * 100\n",
    "iphone_posts_notnull = iphone_posts.notnull().sum()['text']/iphone_posts.shape[0] * 100\n",
    "\n",
    "plt.figure(figsize = (5,4))\n",
    "sns.barplot(y = [android_posts_notnull, iphone_posts_notnull], x = ['r/Androidquestions','r/iphonehelp'])\n",
    "plt.title('Percentage of non-link/image posts in each subreddit', fontsize=14)\n",
    "plt.ylim(0,100)\n",
    "plt.xticks(fontsize=14)\n",
    "plt.yticks(fontsize=12)\n",
    "plt.tight_layout()"
   ]
  },
  {
   "cell_type": "markdown",
   "metadata": {},
   "source": [
    "## Data Preprocessing"
   ]
  },
  {
   "cell_type": "markdown",
   "metadata": {},
   "source": [
    "The raw corpus of Titles, Text and Comments contains several issues. I will hence create a preprocesing function that will do the following:\n",
    "\n",
    "- drop the `distinguished` column and the `comment_distinguished` column as we have determined that posts are generally from the community as opposed to being from moderators.\n",
    "- fill in null values that represent no text or comments with a unique string ('notexthere') that will later be included as a stopword to be removed.\n",
    "- engineer new columns for comment count and number of words in the comments for each post\n",
    "- join comment count and comment length to each post\n",
    "- engineer new columns for title lengths and post lengths\n",
    "- join comments and posts using `id` as an index\n",
    "\n",
    "I will then run the preprocessing function on the android (android_posts, android_comments) and iphone (iphone_posts, iphone_comments).\n",
    "\n",
    "In order to create the content for the training data, a dummy column will be first created to identify each post as either belonging to r/Androidquestions or r/iphonehelp before appending one dataframe to the other. "
   ]
  },
  {
   "cell_type": "code",
   "execution_count": 60,
   "metadata": {},
   "outputs": [],
   "source": [
    "def preprocess(df_posts, df_comments):\n",
    "    \n",
    "    # ---------- DROP 'distinguished' and 'comment_distinguished' columnns ---------------\n",
    "    \n",
    "    df_posts.drop(columns = 'distinguished', axis=1, inplace = True)\n",
    "    df_comments.drop(columns = 'comment_distinguished', axis=1, inplace = True)\n",
    "\n",
    "    # --------------------------- FILL IN NULL VALUES with 'notexthere' -----------------\n",
    "    \n",
    "    df_posts.fillna(value = 'notexthere', inplace=True)\n",
    "  \n",
    "    # -------------------------------- GET COMMENTS INFO -------------------------------\n",
    "    \n",
    "    # calculate comment counts and lengths for each post\n",
    "    df_comments = df_comments.groupby('post_id')['comment_text'].\\\n",
    "                                    agg(['count', lambda text: '. '.join(text)])\n",
    "    df_comments = pd.DataFrame(df_comments)\n",
    "    df_comments['comment_len'] = [len(x) for x in df_comments['<lambda_0>'].str.split(' ')]\n",
    "    df_comments.rename(columns={'<lambda_0>': 'comment_all',\n",
    "                                'count':'comment_count'}, inplace = True)\n",
    "\n",
    "    # join comments to posts on post_id\n",
    "    df_merged = df_posts.merge(df_comments, how = 'left', left_on = 'id', right_on = 'post_id')\n",
    "    \n",
    "    # fill in null values for posts with no comments\n",
    "    df_merged['comment_count'].fillna(0, inplace = True)\n",
    "    df_merged['comment_len'].fillna(0, inplace = True)\n",
    "    df_merged['comment_all'].fillna('notexthere', inplace = True)\n",
    "    \n",
    "    # -------------------------------- GET TEXT LENGTHS ----------------------------------\n",
    "    \n",
    "    df_merged['title_len'] = [len(x) for x in df_merged['title'].str.split(' ')]\n",
    "    df_merged['text_len'] = [len(x) for x in df_merged['text'].str.split(' ')]\n",
    "\n",
    "    \n",
    "    return df_merged"
   ]
  },
  {
   "cell_type": "code",
   "execution_count": 61,
   "metadata": {
    "scrolled": true
   },
   "outputs": [
    {
     "ename": "KeyError",
     "evalue": "\"['distinguished'] not found in axis\"",
     "output_type": "error",
     "traceback": [
      "\u001b[0;31m---------------------------------------------------------------------------\u001b[0m",
      "\u001b[0;31mKeyError\u001b[0m                                  Traceback (most recent call last)",
      "\u001b[0;32m<ipython-input-61-93954e741e19>\u001b[0m in \u001b[0;36m<module>\u001b[0;34m\u001b[0m\n\u001b[0;32m----> 1\u001b[0;31m \u001b[0mandroid\u001b[0m \u001b[0;34m=\u001b[0m \u001b[0mpreprocess\u001b[0m\u001b[0;34m(\u001b[0m\u001b[0mandroid_posts\u001b[0m\u001b[0;34m,\u001b[0m \u001b[0mandroid_comments\u001b[0m\u001b[0;34m)\u001b[0m\u001b[0;34m\u001b[0m\u001b[0;34m\u001b[0m\u001b[0m\n\u001b[0m\u001b[1;32m      2\u001b[0m \u001b[0mandroid\u001b[0m\u001b[0;34m.\u001b[0m\u001b[0mhead\u001b[0m\u001b[0;34m(\u001b[0m\u001b[0;34m)\u001b[0m\u001b[0;34m\u001b[0m\u001b[0;34m\u001b[0m\u001b[0m\n",
      "\u001b[0;32m<ipython-input-60-f019e7964050>\u001b[0m in \u001b[0;36mpreprocess\u001b[0;34m(df_posts, df_comments)\u001b[0m\n\u001b[1;32m      3\u001b[0m     \u001b[0;31m# ---------- DROP 'distinguished' and 'comment_distinguished' columnns ---------------\u001b[0m\u001b[0;34m\u001b[0m\u001b[0;34m\u001b[0m\u001b[0;34m\u001b[0m\u001b[0m\n\u001b[1;32m      4\u001b[0m \u001b[0;34m\u001b[0m\u001b[0m\n\u001b[0;32m----> 5\u001b[0;31m     \u001b[0mdf_posts\u001b[0m\u001b[0;34m.\u001b[0m\u001b[0mdrop\u001b[0m\u001b[0;34m(\u001b[0m\u001b[0mcolumns\u001b[0m \u001b[0;34m=\u001b[0m \u001b[0;34m'distinguished'\u001b[0m\u001b[0;34m,\u001b[0m \u001b[0maxis\u001b[0m\u001b[0;34m=\u001b[0m\u001b[0;36m1\u001b[0m\u001b[0;34m,\u001b[0m \u001b[0minplace\u001b[0m \u001b[0;34m=\u001b[0m \u001b[0;32mTrue\u001b[0m\u001b[0;34m)\u001b[0m\u001b[0;34m\u001b[0m\u001b[0;34m\u001b[0m\u001b[0m\n\u001b[0m\u001b[1;32m      6\u001b[0m     \u001b[0mdf_comments\u001b[0m\u001b[0;34m.\u001b[0m\u001b[0mdrop\u001b[0m\u001b[0;34m(\u001b[0m\u001b[0mcolumns\u001b[0m \u001b[0;34m=\u001b[0m \u001b[0;34m'comment_distinguished'\u001b[0m\u001b[0;34m,\u001b[0m \u001b[0maxis\u001b[0m\u001b[0;34m=\u001b[0m\u001b[0;36m1\u001b[0m\u001b[0;34m,\u001b[0m \u001b[0minplace\u001b[0m \u001b[0;34m=\u001b[0m \u001b[0;32mTrue\u001b[0m\u001b[0;34m)\u001b[0m\u001b[0;34m\u001b[0m\u001b[0;34m\u001b[0m\u001b[0m\n\u001b[1;32m      7\u001b[0m \u001b[0;34m\u001b[0m\u001b[0m\n",
      "\u001b[0;32m~/opt/anaconda3/lib/python3.7/site-packages/pandas/core/frame.py\u001b[0m in \u001b[0;36mdrop\u001b[0;34m(self, labels, axis, index, columns, level, inplace, errors)\u001b[0m\n\u001b[1;32m   3995\u001b[0m             \u001b[0mlevel\u001b[0m\u001b[0;34m=\u001b[0m\u001b[0mlevel\u001b[0m\u001b[0;34m,\u001b[0m\u001b[0;34m\u001b[0m\u001b[0;34m\u001b[0m\u001b[0m\n\u001b[1;32m   3996\u001b[0m             \u001b[0minplace\u001b[0m\u001b[0;34m=\u001b[0m\u001b[0minplace\u001b[0m\u001b[0;34m,\u001b[0m\u001b[0;34m\u001b[0m\u001b[0;34m\u001b[0m\u001b[0m\n\u001b[0;32m-> 3997\u001b[0;31m             \u001b[0merrors\u001b[0m\u001b[0;34m=\u001b[0m\u001b[0merrors\u001b[0m\u001b[0;34m,\u001b[0m\u001b[0;34m\u001b[0m\u001b[0;34m\u001b[0m\u001b[0m\n\u001b[0m\u001b[1;32m   3998\u001b[0m         )\n\u001b[1;32m   3999\u001b[0m \u001b[0;34m\u001b[0m\u001b[0m\n",
      "\u001b[0;32m~/opt/anaconda3/lib/python3.7/site-packages/pandas/core/generic.py\u001b[0m in \u001b[0;36mdrop\u001b[0;34m(self, labels, axis, index, columns, level, inplace, errors)\u001b[0m\n\u001b[1;32m   3934\u001b[0m         \u001b[0;32mfor\u001b[0m \u001b[0maxis\u001b[0m\u001b[0;34m,\u001b[0m \u001b[0mlabels\u001b[0m \u001b[0;32min\u001b[0m \u001b[0maxes\u001b[0m\u001b[0;34m.\u001b[0m\u001b[0mitems\u001b[0m\u001b[0;34m(\u001b[0m\u001b[0;34m)\u001b[0m\u001b[0;34m:\u001b[0m\u001b[0;34m\u001b[0m\u001b[0;34m\u001b[0m\u001b[0m\n\u001b[1;32m   3935\u001b[0m             \u001b[0;32mif\u001b[0m \u001b[0mlabels\u001b[0m \u001b[0;32mis\u001b[0m \u001b[0;32mnot\u001b[0m \u001b[0;32mNone\u001b[0m\u001b[0;34m:\u001b[0m\u001b[0;34m\u001b[0m\u001b[0;34m\u001b[0m\u001b[0m\n\u001b[0;32m-> 3936\u001b[0;31m                 \u001b[0mobj\u001b[0m \u001b[0;34m=\u001b[0m \u001b[0mobj\u001b[0m\u001b[0;34m.\u001b[0m\u001b[0m_drop_axis\u001b[0m\u001b[0;34m(\u001b[0m\u001b[0mlabels\u001b[0m\u001b[0;34m,\u001b[0m \u001b[0maxis\u001b[0m\u001b[0;34m,\u001b[0m \u001b[0mlevel\u001b[0m\u001b[0;34m=\u001b[0m\u001b[0mlevel\u001b[0m\u001b[0;34m,\u001b[0m \u001b[0merrors\u001b[0m\u001b[0;34m=\u001b[0m\u001b[0merrors\u001b[0m\u001b[0;34m)\u001b[0m\u001b[0;34m\u001b[0m\u001b[0;34m\u001b[0m\u001b[0m\n\u001b[0m\u001b[1;32m   3937\u001b[0m \u001b[0;34m\u001b[0m\u001b[0m\n\u001b[1;32m   3938\u001b[0m         \u001b[0;32mif\u001b[0m \u001b[0minplace\u001b[0m\u001b[0;34m:\u001b[0m\u001b[0;34m\u001b[0m\u001b[0;34m\u001b[0m\u001b[0m\n",
      "\u001b[0;32m~/opt/anaconda3/lib/python3.7/site-packages/pandas/core/generic.py\u001b[0m in \u001b[0;36m_drop_axis\u001b[0;34m(self, labels, axis, level, errors)\u001b[0m\n\u001b[1;32m   3968\u001b[0m                 \u001b[0mnew_axis\u001b[0m \u001b[0;34m=\u001b[0m \u001b[0maxis\u001b[0m\u001b[0;34m.\u001b[0m\u001b[0mdrop\u001b[0m\u001b[0;34m(\u001b[0m\u001b[0mlabels\u001b[0m\u001b[0;34m,\u001b[0m \u001b[0mlevel\u001b[0m\u001b[0;34m=\u001b[0m\u001b[0mlevel\u001b[0m\u001b[0;34m,\u001b[0m \u001b[0merrors\u001b[0m\u001b[0;34m=\u001b[0m\u001b[0merrors\u001b[0m\u001b[0;34m)\u001b[0m\u001b[0;34m\u001b[0m\u001b[0;34m\u001b[0m\u001b[0m\n\u001b[1;32m   3969\u001b[0m             \u001b[0;32melse\u001b[0m\u001b[0;34m:\u001b[0m\u001b[0;34m\u001b[0m\u001b[0;34m\u001b[0m\u001b[0m\n\u001b[0;32m-> 3970\u001b[0;31m                 \u001b[0mnew_axis\u001b[0m \u001b[0;34m=\u001b[0m \u001b[0maxis\u001b[0m\u001b[0;34m.\u001b[0m\u001b[0mdrop\u001b[0m\u001b[0;34m(\u001b[0m\u001b[0mlabels\u001b[0m\u001b[0;34m,\u001b[0m \u001b[0merrors\u001b[0m\u001b[0;34m=\u001b[0m\u001b[0merrors\u001b[0m\u001b[0;34m)\u001b[0m\u001b[0;34m\u001b[0m\u001b[0;34m\u001b[0m\u001b[0m\n\u001b[0m\u001b[1;32m   3971\u001b[0m             \u001b[0mresult\u001b[0m \u001b[0;34m=\u001b[0m \u001b[0mself\u001b[0m\u001b[0;34m.\u001b[0m\u001b[0mreindex\u001b[0m\u001b[0;34m(\u001b[0m\u001b[0;34m**\u001b[0m\u001b[0;34m{\u001b[0m\u001b[0maxis_name\u001b[0m\u001b[0;34m:\u001b[0m \u001b[0mnew_axis\u001b[0m\u001b[0;34m}\u001b[0m\u001b[0;34m)\u001b[0m\u001b[0;34m\u001b[0m\u001b[0;34m\u001b[0m\u001b[0m\n\u001b[1;32m   3972\u001b[0m \u001b[0;34m\u001b[0m\u001b[0m\n",
      "\u001b[0;32m~/opt/anaconda3/lib/python3.7/site-packages/pandas/core/indexes/base.py\u001b[0m in \u001b[0;36mdrop\u001b[0;34m(self, labels, errors)\u001b[0m\n\u001b[1;32m   5015\u001b[0m         \u001b[0;32mif\u001b[0m \u001b[0mmask\u001b[0m\u001b[0;34m.\u001b[0m\u001b[0many\u001b[0m\u001b[0;34m(\u001b[0m\u001b[0;34m)\u001b[0m\u001b[0;34m:\u001b[0m\u001b[0;34m\u001b[0m\u001b[0;34m\u001b[0m\u001b[0m\n\u001b[1;32m   5016\u001b[0m             \u001b[0;32mif\u001b[0m \u001b[0merrors\u001b[0m \u001b[0;34m!=\u001b[0m \u001b[0;34m\"ignore\"\u001b[0m\u001b[0;34m:\u001b[0m\u001b[0;34m\u001b[0m\u001b[0;34m\u001b[0m\u001b[0m\n\u001b[0;32m-> 5017\u001b[0;31m                 \u001b[0;32mraise\u001b[0m \u001b[0mKeyError\u001b[0m\u001b[0;34m(\u001b[0m\u001b[0;34mf\"{labels[mask]} not found in axis\"\u001b[0m\u001b[0;34m)\u001b[0m\u001b[0;34m\u001b[0m\u001b[0;34m\u001b[0m\u001b[0m\n\u001b[0m\u001b[1;32m   5018\u001b[0m             \u001b[0mindexer\u001b[0m \u001b[0;34m=\u001b[0m \u001b[0mindexer\u001b[0m\u001b[0;34m[\u001b[0m\u001b[0;34m~\u001b[0m\u001b[0mmask\u001b[0m\u001b[0;34m]\u001b[0m\u001b[0;34m\u001b[0m\u001b[0;34m\u001b[0m\u001b[0m\n\u001b[1;32m   5019\u001b[0m         \u001b[0;32mreturn\u001b[0m \u001b[0mself\u001b[0m\u001b[0;34m.\u001b[0m\u001b[0mdelete\u001b[0m\u001b[0;34m(\u001b[0m\u001b[0mindexer\u001b[0m\u001b[0;34m)\u001b[0m\u001b[0;34m\u001b[0m\u001b[0;34m\u001b[0m\u001b[0m\n",
      "\u001b[0;31mKeyError\u001b[0m: \"['distinguished'] not found in axis\""
     ]
    }
   ],
   "source": [
    "\n",
    "android = preprocess(android_posts, android_comments)\n",
    "android.head() "
   ]
  },
  {
   "cell_type": "code",
   "execution_count": 114,
   "metadata": {},
   "outputs": [
    {
     "data": {
      "text/html": [
       "<div>\n",
       "<style scoped>\n",
       "    .dataframe tbody tr th:only-of-type {\n",
       "        vertical-align: middle;\n",
       "    }\n",
       "\n",
       "    .dataframe tbody tr th {\n",
       "        vertical-align: top;\n",
       "    }\n",
       "\n",
       "    .dataframe thead th {\n",
       "        text-align: right;\n",
       "    }\n",
       "</style>\n",
       "<table border=\"1\" class=\"dataframe\">\n",
       "  <thead>\n",
       "    <tr style=\"text-align: right;\">\n",
       "      <th></th>\n",
       "      <th>title</th>\n",
       "      <th>id</th>\n",
       "      <th>date_created</th>\n",
       "      <th>text</th>\n",
       "      <th>score</th>\n",
       "      <th>upvote_ratio</th>\n",
       "      <th>comment_count</th>\n",
       "      <th>comment_all</th>\n",
       "      <th>comment_len</th>\n",
       "      <th>title_len</th>\n",
       "      <th>text_len</th>\n",
       "      <th>subreddit</th>\n",
       "    </tr>\n",
       "  </thead>\n",
       "  <tbody>\n",
       "    <tr>\n",
       "      <th>0</th>\n",
       "      <td>Apps wont load using WIFI</td>\n",
       "      <td>hcerke</td>\n",
       "      <td>2020-06-20 03:16:44</td>\n",
       "      <td>Hello, my apps are not loading content when i ...</td>\n",
       "      <td>1</td>\n",
       "      <td>1.0</td>\n",
       "      <td>0.0</td>\n",
       "      <td>notexthere</td>\n",
       "      <td>0.0</td>\n",
       "      <td>5</td>\n",
       "      <td>27</td>\n",
       "      <td>1</td>\n",
       "    </tr>\n",
       "    <tr>\n",
       "      <th>1</th>\n",
       "      <td>Is there any way to select photos from differe...</td>\n",
       "      <td>hcekrf</td>\n",
       "      <td>2020-06-20 03:03:21</td>\n",
       "      <td>I'm using a Samsung Note 8 and just the stock ...</td>\n",
       "      <td>1</td>\n",
       "      <td>1.0</td>\n",
       "      <td>0.0</td>\n",
       "      <td>notexthere</td>\n",
       "      <td>0.0</td>\n",
       "      <td>14</td>\n",
       "      <td>60</td>\n",
       "      <td>1</td>\n",
       "    </tr>\n",
       "    <tr>\n",
       "      <th>2</th>\n",
       "      <td>Chat Features No Longer Working</td>\n",
       "      <td>hcefkx</td>\n",
       "      <td>2020-06-20 02:52:45</td>\n",
       "      <td>So I use a Samsung Galaxy S10+ on Verizon and ...</td>\n",
       "      <td>1</td>\n",
       "      <td>1.0</td>\n",
       "      <td>1.0</td>\n",
       "      <td>Try the following, turn off WiFi and turn on m...</td>\n",
       "      <td>40.0</td>\n",
       "      <td>5</td>\n",
       "      <td>75</td>\n",
       "      <td>1</td>\n",
       "    </tr>\n",
       "    <tr>\n",
       "      <th>3</th>\n",
       "      <td>An app updated itself in a weird way</td>\n",
       "      <td>hcefi8</td>\n",
       "      <td>2020-06-20 02:52:36</td>\n",
       "      <td>I was using the Twitch app on android, and som...</td>\n",
       "      <td>1</td>\n",
       "      <td>1.0</td>\n",
       "      <td>0.0</td>\n",
       "      <td>notexthere</td>\n",
       "      <td>0.0</td>\n",
       "      <td>8</td>\n",
       "      <td>90</td>\n",
       "      <td>1</td>\n",
       "    </tr>\n",
       "    <tr>\n",
       "      <th>4</th>\n",
       "      <td>[Google Photos] Is it possible to remove pictu...</td>\n",
       "      <td>hcdh2b</td>\n",
       "      <td>2020-06-20 01:43:45</td>\n",
       "      <td>I joined a public album that is just a big mix...</td>\n",
       "      <td>1</td>\n",
       "      <td>1.0</td>\n",
       "      <td>0.0</td>\n",
       "      <td>notexthere</td>\n",
       "      <td>0.0</td>\n",
       "      <td>17</td>\n",
       "      <td>77</td>\n",
       "      <td>1</td>\n",
       "    </tr>\n",
       "  </tbody>\n",
       "</table>\n",
       "</div>"
      ],
      "text/plain": [
       "                                               title      id  \\\n",
       "0                          Apps wont load using WIFI  hcerke   \n",
       "1  Is there any way to select photos from differe...  hcekrf   \n",
       "2                    Chat Features No Longer Working  hcefkx   \n",
       "3               An app updated itself in a weird way  hcefi8   \n",
       "4  [Google Photos] Is it possible to remove pictu...  hcdh2b   \n",
       "\n",
       "          date_created                                               text  \\\n",
       "0  2020-06-20 03:16:44  Hello, my apps are not loading content when i ...   \n",
       "1  2020-06-20 03:03:21  I'm using a Samsung Note 8 and just the stock ...   \n",
       "2  2020-06-20 02:52:45  So I use a Samsung Galaxy S10+ on Verizon and ...   \n",
       "3  2020-06-20 02:52:36  I was using the Twitch app on android, and som...   \n",
       "4  2020-06-20 01:43:45  I joined a public album that is just a big mix...   \n",
       "\n",
       "   score  upvote_ratio  comment_count  \\\n",
       "0      1           1.0            0.0   \n",
       "1      1           1.0            0.0   \n",
       "2      1           1.0            1.0   \n",
       "3      1           1.0            0.0   \n",
       "4      1           1.0            0.0   \n",
       "\n",
       "                                         comment_all  comment_len  title_len  \\\n",
       "0                                         notexthere          0.0          5   \n",
       "1                                         notexthere          0.0         14   \n",
       "2  Try the following, turn off WiFi and turn on m...         40.0          5   \n",
       "3                                         notexthere          0.0          8   \n",
       "4                                         notexthere          0.0         17   \n",
       "\n",
       "   text_len  subreddit  \n",
       "0        27          1  \n",
       "1        60          1  \n",
       "2        75          1  \n",
       "3        90          1  \n",
       "4        77          1  "
      ]
     },
     "execution_count": 114,
     "metadata": {},
     "output_type": "execute_result"
    }
   ],
   "source": [
    "android.head()"
   ]
  },
  {
   "cell_type": "code",
   "execution_count": 116,
   "metadata": {},
   "outputs": [
    {
     "name": "stdout",
     "output_type": "stream",
     "text": [
      "<class 'pandas.core.frame.DataFrame'>\n",
      "Int64Index: 990 entries, 0 to 989\n",
      "Data columns (total 12 columns):\n",
      " #   Column         Non-Null Count  Dtype  \n",
      "---  ------         --------------  -----  \n",
      " 0   title          990 non-null    object \n",
      " 1   id             990 non-null    object \n",
      " 2   date_created   990 non-null    object \n",
      " 3   text           990 non-null    object \n",
      " 4   score          990 non-null    int64  \n",
      " 5   upvote_ratio   990 non-null    float64\n",
      " 6   comment_count  990 non-null    float64\n",
      " 7   comment_all    990 non-null    object \n",
      " 8   comment_len    990 non-null    float64\n",
      " 9   title_len      990 non-null    int64  \n",
      " 10  text_len       990 non-null    int64  \n",
      " 11  subreddit      990 non-null    int64  \n",
      "dtypes: float64(3), int64(4), object(5)\n",
      "memory usage: 100.5+ KB\n"
     ]
    }
   ],
   "source": [
    "android.info()"
   ]
  },
  {
   "cell_type": "code",
   "execution_count": 119,
   "metadata": {},
   "outputs": [
    {
     "data": {
      "text/plain": [
       "title            0\n",
       "id               0\n",
       "date_created     0\n",
       "text             0\n",
       "score            0\n",
       "upvote_ratio     0\n",
       "comment_count    0\n",
       "comment_all      0\n",
       "comment_len      0\n",
       "title_len        0\n",
       "text_len         0\n",
       "subreddit        0\n",
       "dtype: int64"
      ]
     },
     "execution_count": 119,
     "metadata": {},
     "output_type": "execute_result"
    }
   ],
   "source": [
    "android.isnull().sum()"
   ]
  },
  {
   "cell_type": "code",
   "execution_count": 120,
   "metadata": {},
   "outputs": [],
   "source": [
    "android.to_csv('./data/android_combined.csv')"
   ]
  },
  {
   "cell_type": "code",
   "execution_count": 58,
   "metadata": {},
   "outputs": [
    {
     "data": {
      "text/html": [
       "<div>\n",
       "<style scoped>\n",
       "    .dataframe tbody tr th:only-of-type {\n",
       "        vertical-align: middle;\n",
       "    }\n",
       "\n",
       "    .dataframe tbody tr th {\n",
       "        vertical-align: top;\n",
       "    }\n",
       "\n",
       "    .dataframe thead th {\n",
       "        text-align: right;\n",
       "    }\n",
       "</style>\n",
       "<table border=\"1\" class=\"dataframe\">\n",
       "  <thead>\n",
       "    <tr style=\"text-align: right;\">\n",
       "      <th></th>\n",
       "      <th>title</th>\n",
       "      <th>id</th>\n",
       "      <th>date_created</th>\n",
       "      <th>text</th>\n",
       "      <th>score</th>\n",
       "      <th>upvote_ratio</th>\n",
       "      <th>comment_count</th>\n",
       "      <th>comment_all</th>\n",
       "      <th>comment_len</th>\n",
       "      <th>title_len</th>\n",
       "      <th>text_len</th>\n",
       "    </tr>\n",
       "  </thead>\n",
       "  <tbody>\n",
       "    <tr>\n",
       "      <th>0</th>\n",
       "      <td>How can I get my phone storage back to normal?</td>\n",
       "      <td>hcegsr</td>\n",
       "      <td>2020-06-20 02:55:09</td>\n",
       "      <td>My iPhone has 16GB and the bulk of it is bein...</td>\n",
       "      <td>1</td>\n",
       "      <td>1.00</td>\n",
       "      <td>1.0</td>\n",
       "      <td>Can you post a screenshot of iPhone storage?</td>\n",
       "      <td>8.0</td>\n",
       "      <td>10</td>\n",
       "      <td>44</td>\n",
       "    </tr>\n",
       "    <tr>\n",
       "      <th>1</th>\n",
       "      <td>Old iPhone receives texts/calls and new iPhone...</td>\n",
       "      <td>hceg99</td>\n",
       "      <td>2020-06-20 02:54:04</td>\n",
       "      <td>\\nI just set up my new iPhone 11 today. I went...</td>\n",
       "      <td>1</td>\n",
       "      <td>1.00</td>\n",
       "      <td>2.0</td>\n",
       "      <td>Move the SIM card from the old phone to the ne...</td>\n",
       "      <td>23.0</td>\n",
       "      <td>10</td>\n",
       "      <td>64</td>\n",
       "    </tr>\n",
       "    <tr>\n",
       "      <th>2</th>\n",
       "      <td>i have 70GB of stuff on my “other” in storage,...</td>\n",
       "      <td>hce0z9</td>\n",
       "      <td>2020-06-20 02:23:34</td>\n",
       "      <td>notexthere</td>\n",
       "      <td>1</td>\n",
       "      <td>1.00</td>\n",
       "      <td>12.0</td>\n",
       "      <td>Can you post a screenshot of iPhone storage?. ...</td>\n",
       "      <td>175.0</td>\n",
       "      <td>19</td>\n",
       "      <td>1</td>\n",
       "    </tr>\n",
       "    <tr>\n",
       "      <th>3</th>\n",
       "      <td>Iphone SE 13.3.1 Photos have a circled exclama...</td>\n",
       "      <td>hcdn4g</td>\n",
       "      <td>2020-06-20 01:55:56</td>\n",
       "      <td>As the title suggests my photos have a circled...</td>\n",
       "      <td>1</td>\n",
       "      <td>0.99</td>\n",
       "      <td>2.0</td>\n",
       "      <td>Screenshot?\\n\\nHave you tried updating (13.5.1...</td>\n",
       "      <td>12.0</td>\n",
       "      <td>9</td>\n",
       "      <td>28</td>\n",
       "    </tr>\n",
       "    <tr>\n",
       "      <th>4</th>\n",
       "      <td>My iPhone 11 PRo Max just deleted an entire me...</td>\n",
       "      <td>hcdj8r</td>\n",
       "      <td>2020-06-20 01:48:11</td>\n",
       "      <td>I did not have the number saved.\\n\\nThe person...</td>\n",
       "      <td>1</td>\n",
       "      <td>1.00</td>\n",
       "      <td>0.0</td>\n",
       "      <td>notexthere</td>\n",
       "      <td>0.0</td>\n",
       "      <td>16</td>\n",
       "      <td>114</td>\n",
       "    </tr>\n",
       "  </tbody>\n",
       "</table>\n",
       "</div>"
      ],
      "text/plain": [
       "                                               title      id  \\\n",
       "0     How can I get my phone storage back to normal?  hcegsr   \n",
       "1  Old iPhone receives texts/calls and new iPhone...  hceg99   \n",
       "2  i have 70GB of stuff on my “other” in storage,...  hce0z9   \n",
       "3  Iphone SE 13.3.1 Photos have a circled exclama...  hcdn4g   \n",
       "4  My iPhone 11 PRo Max just deleted an entire me...  hcdj8r   \n",
       "\n",
       "          date_created                                               text  \\\n",
       "0  2020-06-20 02:55:09   My iPhone has 16GB and the bulk of it is bein...   \n",
       "1  2020-06-20 02:54:04  \\nI just set up my new iPhone 11 today. I went...   \n",
       "2  2020-06-20 02:23:34                                         notexthere   \n",
       "3  2020-06-20 01:55:56  As the title suggests my photos have a circled...   \n",
       "4  2020-06-20 01:48:11  I did not have the number saved.\\n\\nThe person...   \n",
       "\n",
       "   score  upvote_ratio  comment_count  \\\n",
       "0      1          1.00            1.0   \n",
       "1      1          1.00            2.0   \n",
       "2      1          1.00           12.0   \n",
       "3      1          0.99            2.0   \n",
       "4      1          1.00            0.0   \n",
       "\n",
       "                                         comment_all  comment_len  title_len  \\\n",
       "0       Can you post a screenshot of iPhone storage?          8.0         10   \n",
       "1  Move the SIM card from the old phone to the ne...         23.0         10   \n",
       "2  Can you post a screenshot of iPhone storage?. ...        175.0         19   \n",
       "3  Screenshot?\\n\\nHave you tried updating (13.5.1...         12.0          9   \n",
       "4                                         notexthere          0.0         16   \n",
       "\n",
       "   text_len  \n",
       "0        44  \n",
       "1        64  \n",
       "2         1  \n",
       "3        28  \n",
       "4       114  "
      ]
     },
     "execution_count": 58,
     "metadata": {},
     "output_type": "execute_result"
    }
   ],
   "source": [
    "iphone = preprocess(iphone_posts, iphone_comments)\n",
    "iphone.head()"
   ]
  },
  {
   "cell_type": "code",
   "execution_count": 59,
   "metadata": {},
   "outputs": [
    {
     "name": "stdout",
     "output_type": "stream",
     "text": [
      "<class 'pandas.core.frame.DataFrame'>\n",
      "Int64Index: 992 entries, 0 to 991\n",
      "Data columns (total 11 columns):\n",
      " #   Column         Non-Null Count  Dtype  \n",
      "---  ------         --------------  -----  \n",
      " 0   title          992 non-null    object \n",
      " 1   id             992 non-null    object \n",
      " 2   date_created   992 non-null    object \n",
      " 3   text           992 non-null    object \n",
      " 4   score          992 non-null    int64  \n",
      " 5   upvote_ratio   992 non-null    float64\n",
      " 6   comment_count  992 non-null    float64\n",
      " 7   comment_all    992 non-null    object \n",
      " 8   comment_len    992 non-null    float64\n",
      " 9   title_len      992 non-null    int64  \n",
      " 10  text_len       992 non-null    int64  \n",
      "dtypes: float64(3), int64(3), object(5)\n",
      "memory usage: 93.0+ KB\n"
     ]
    }
   ],
   "source": [
    "iphone.info()"
   ]
  },
  {
   "cell_type": "markdown",
   "metadata": {},
   "source": [
    "### Merge dataframes"
   ]
  },
  {
   "cell_type": "code",
   "execution_count": 62,
   "metadata": {},
   "outputs": [],
   "source": [
    "# create dummy column for subreddit identification - 1 for r/androidhelp and 0 for r/iphonequestions\n",
    "android['subreddit'] = 1\n",
    "iphone['subreddit'] = 0"
   ]
  },
  {
   "cell_type": "code",
   "execution_count": 63,
   "metadata": {
    "scrolled": true
   },
   "outputs": [
    {
     "data": {
      "text/html": [
       "<div>\n",
       "<style scoped>\n",
       "    .dataframe tbody tr th:only-of-type {\n",
       "        vertical-align: middle;\n",
       "    }\n",
       "\n",
       "    .dataframe tbody tr th {\n",
       "        vertical-align: top;\n",
       "    }\n",
       "\n",
       "    .dataframe thead th {\n",
       "        text-align: right;\n",
       "    }\n",
       "</style>\n",
       "<table border=\"1\" class=\"dataframe\">\n",
       "  <thead>\n",
       "    <tr style=\"text-align: right;\">\n",
       "      <th></th>\n",
       "      <th>title</th>\n",
       "      <th>id</th>\n",
       "      <th>date_created</th>\n",
       "      <th>text</th>\n",
       "      <th>score</th>\n",
       "      <th>upvote_ratio</th>\n",
       "      <th>comment_count</th>\n",
       "      <th>comment_all</th>\n",
       "      <th>comment_len</th>\n",
       "      <th>title_len</th>\n",
       "      <th>text_len</th>\n",
       "      <th>subreddit</th>\n",
       "    </tr>\n",
       "  </thead>\n",
       "  <tbody>\n",
       "    <tr>\n",
       "      <th>296</th>\n",
       "      <td>Weird screen issues?</td>\n",
       "      <td>gxezv3</td>\n",
       "      <td>2020-06-05 22:52:37</td>\n",
       "      <td>Hey. \\n\\nI have a weird screen problem where m...</td>\n",
       "      <td>1</td>\n",
       "      <td>1.00</td>\n",
       "      <td>0.0</td>\n",
       "      <td>notexthere</td>\n",
       "      <td>0.0</td>\n",
       "      <td>3</td>\n",
       "      <td>81</td>\n",
       "      <td>0</td>\n",
       "    </tr>\n",
       "    <tr>\n",
       "      <th>880</th>\n",
       "      <td>Can i hack my phone so i can only turn it on b...</td>\n",
       "      <td>gxx58x</td>\n",
       "      <td>2020-06-06 19:17:19</td>\n",
       "      <td>notexthere</td>\n",
       "      <td>0</td>\n",
       "      <td>0.43</td>\n",
       "      <td>1.0</td>\n",
       "      <td>How could you unlock it with your fingerprint ...</td>\n",
       "      <td>22.0</td>\n",
       "      <td>18</td>\n",
       "      <td>1</td>\n",
       "      <td>1</td>\n",
       "    </tr>\n",
       "    <tr>\n",
       "      <th>364</th>\n",
       "      <td>Hi i recently noticed some dirt inside the cor...</td>\n",
       "      <td>gvb3mt</td>\n",
       "      <td>2020-06-02 17:00:50</td>\n",
       "      <td>On the back between the aluminium and the glas...</td>\n",
       "      <td>1</td>\n",
       "      <td>0.99</td>\n",
       "      <td>0.0</td>\n",
       "      <td>notexthere</td>\n",
       "      <td>0.0</td>\n",
       "      <td>40</td>\n",
       "      <td>13</td>\n",
       "      <td>0</td>\n",
       "    </tr>\n",
       "    <tr>\n",
       "      <th>712</th>\n",
       "      <td>Recover data from before factory reset</td>\n",
       "      <td>giaghn</td>\n",
       "      <td>2020-05-12 12:40:29</td>\n",
       "      <td>Before I start, I'm an idiot and I've learnt m...</td>\n",
       "      <td>1</td>\n",
       "      <td>1.00</td>\n",
       "      <td>2.0</td>\n",
       "      <td>Sorry, but your intuition is correct. You have...</td>\n",
       "      <td>30.0</td>\n",
       "      <td>6</td>\n",
       "      <td>280</td>\n",
       "      <td>0</td>\n",
       "    </tr>\n",
       "    <tr>\n",
       "      <th>99</th>\n",
       "      <td>Why does this keep happening?</td>\n",
       "      <td>h983wf</td>\n",
       "      <td>2020-06-15 03:29:04</td>\n",
       "      <td>Videos keep coming back from the dead and dupl...</td>\n",
       "      <td>1</td>\n",
       "      <td>1.00</td>\n",
       "      <td>0.0</td>\n",
       "      <td>notexthere</td>\n",
       "      <td>0.0</td>\n",
       "      <td>5</td>\n",
       "      <td>48</td>\n",
       "      <td>0</td>\n",
       "    </tr>\n",
       "  </tbody>\n",
       "</table>\n",
       "</div>"
      ],
      "text/plain": [
       "                                                 title      id  \\\n",
       "296                               Weird screen issues?  gxezv3   \n",
       "880  Can i hack my phone so i can only turn it on b...  gxx58x   \n",
       "364  Hi i recently noticed some dirt inside the cor...  gvb3mt   \n",
       "712             Recover data from before factory reset  giaghn   \n",
       "99                       Why does this keep happening?  h983wf   \n",
       "\n",
       "            date_created                                               text  \\\n",
       "296  2020-06-05 22:52:37  Hey. \\n\\nI have a weird screen problem where m...   \n",
       "880  2020-06-06 19:17:19                                         notexthere   \n",
       "364  2020-06-02 17:00:50  On the back between the aluminium and the glas...   \n",
       "712  2020-05-12 12:40:29  Before I start, I'm an idiot and I've learnt m...   \n",
       "99   2020-06-15 03:29:04  Videos keep coming back from the dead and dupl...   \n",
       "\n",
       "     score  upvote_ratio  comment_count  \\\n",
       "296      1          1.00            0.0   \n",
       "880      0          0.43            1.0   \n",
       "364      1          0.99            0.0   \n",
       "712      1          1.00            2.0   \n",
       "99       1          1.00            0.0   \n",
       "\n",
       "                                           comment_all  comment_len  \\\n",
       "296                                         notexthere          0.0   \n",
       "880  How could you unlock it with your fingerprint ...         22.0   \n",
       "364                                         notexthere          0.0   \n",
       "712  Sorry, but your intuition is correct. You have...         30.0   \n",
       "99                                          notexthere          0.0   \n",
       "\n",
       "     title_len  text_len  subreddit  \n",
       "296          3        81          0  \n",
       "880         18         1          1  \n",
       "364         40        13          0  \n",
       "712          6       280          0  \n",
       "99           5        48          0  "
      ]
     },
     "execution_count": 63,
     "metadata": {},
     "output_type": "execute_result"
    }
   ],
   "source": [
    "# combine dataframes\n",
    "combined = android.append(iphone)\n",
    "combined.sample(5)"
   ]
  },
  {
   "cell_type": "code",
   "execution_count": 109,
   "metadata": {
    "scrolled": true
   },
   "outputs": [
    {
     "data": {
      "text/plain": [
       "0"
      ]
     },
     "execution_count": 109,
     "metadata": {},
     "output_type": "execute_result"
    }
   ],
   "source": [
    "#Check for repeated values in combined dataset\n",
    "combined['id'].nunique() - combined.shape[0]"
   ]
  },
  {
   "cell_type": "code",
   "execution_count": 115,
   "metadata": {},
   "outputs": [],
   "source": [
    "# Export combined iphone, android and merged training data\n",
    "android.to_csv('./data/android_combined.csv')\n",
    "iphone.to_csv('./data/iphone_combined.csv')\n",
    "combined.to_csv('./data/train.csv')"
   ]
  }
 ],
 "metadata": {
  "kernelspec": {
   "display_name": "Python 3",
   "language": "python",
   "name": "python3"
  },
  "language_info": {
   "codemirror_mode": {
    "name": "ipython",
    "version": 3
   },
   "file_extension": ".py",
   "mimetype": "text/x-python",
   "name": "python",
   "nbconvert_exporter": "python",
   "pygments_lexer": "ipython3",
   "version": "3.7.6"
  }
 },
 "nbformat": 4,
 "nbformat_minor": 4
}
